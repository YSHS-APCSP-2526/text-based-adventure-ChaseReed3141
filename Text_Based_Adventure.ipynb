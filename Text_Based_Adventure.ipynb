{
  "nbformat": 4,
  "nbformat_minor": 0,
  "metadata": {
    "colab": {
      "provenance": [],
      "include_colab_link": true
    },
    "kernelspec": {
      "name": "python3",
      "display_name": "Python 3"
    },
    "language_info": {
      "name": "python"
    }
  },
  "cells": [
    {
      "cell_type": "markdown",
      "metadata": {
        "id": "view-in-github",
        "colab_type": "text"
      },
      "source": [
        "<a href=\"https://colab.research.google.com/github/YSHS-APCSP-2526/text-based-adventure-ChaseReed3141/blob/main/Text_Based_Adventure.ipynb\" target=\"_parent\"><img src=\"https://colab.research.google.com/assets/colab-badge.svg\" alt=\"Open In Colab\"/></a>"
      ]
    },
    {
      "cell_type": "markdown",
      "source": [
        "#Requirements for text based adventure\n",
        "1. You must have at least 2 different \"paths\" that are at least 4 decisions in length\n",
        "2. Include an element of randomness (from the random library)\n",
        "3. Include a list that is core to the text based adventure\n",
        "4. Include a function that is called within your program that includes a while loop, and a parameter that influences a conditional statement in your function.\n",
        "5. Commented Code.\n",
        "6. A [digital flowchart](https://docs.google.com/document/d/1p2k3wL6gzjYWBuWxwEQptmbbOZZNsQrthlC12SNtYgY/edit?usp=sharing) that follows accepted symbols for representing code. You can use google slides or [draw.io](https://www.drawio.com/) for the flowchart."
      ],
      "metadata": {
        "id": "zpSmche7G_jy"
      }
    },
    {
      "cell_type": "code",
      "source": [
        "def powerRoom():\n",
        "  import time\n",
        "  outOfPower = False\n",
        "  power = False\n",
        "  c1 = False\n",
        "  c2 = False\n",
        "  print(\"You enter what looks to be the power room.\")\n",
        "  while outOfPower == False:\n",
        "    if c1 == False:\n",
        "      print(\"1 - Look around the room\")\n",
        "\n",
        "    if c2 == False and c1 == True:\n",
        "      print(\"2 - Go up to the generator's control panel\")\n",
        "      c2 = True\n",
        "\n",
        "    if c1 == True:\n",
        "      print(\"3 - Go through the door\")\n",
        "\n",
        "    response = input(\"\\n\")\n",
        "\n",
        "    if response == \"1\":\n",
        "      print(\"You see mutliple big generators, all are falling apart and no longer runner, except for 1. There is also a another door.\")\n",
        "      c1 = True\n",
        "\n",
        "    response = input(\"\")\n",
        "\n",
        "    if response == \"2\":\n",
        "      genChoice = input(\"1 - Turn all the breakers on\\n2 - Turn off all the breakers\\n3 - Do nothing\")\n",
        "      if genChoice == \"1\":\n",
        "        print(\"You hear a loud, mechanical humming begin, but do not know where it is coming from.\")\n",
        "        power = True\n",
        "      if genChoice == \"2\":\n",
        "        print(\"You have turned off everything, including oxygen.\")\n",
        "        time.sleep(2)\n",
        "        print(\"You have suffocated to death.\")\n",
        "        break\n",
        "      else:\n",
        "        pass"
      ],
      "metadata": {
        "id": "Z70XK3urYLr_"
      },
      "execution_count": 28,
      "outputs": []
    },
    {
      "cell_type": "code",
      "source": [
        "def cafeHall():\n",
        "  print(\"\\nContinue through this hall. You have no choice.\")\n",
        "  input (\"1 - Yes\\n2 - Yes\\n3 - Yes\\n\")\n",
        "  print(\"I do not care what you said, you continue through the hall into a new room.\")\n",
        "  powerRoom()"
      ],
      "metadata": {
        "id": "dGp2HWQ0BBqo"
      },
      "execution_count": 20,
      "outputs": []
    },
    {
      "cell_type": "code",
      "source": [
        "def dormatory():\n",
        "  pass"
      ],
      "metadata": {
        "id": "snEOVBftRhoX"
      },
      "execution_count": 2,
      "outputs": []
    },
    {
      "cell_type": "code",
      "source": [
        "import random\n",
        "def cafeteria():\n",
        "  c1 = False\n",
        "  ramen = False\n",
        "  randomCode = random.randint(1000,9999)\n",
        "  codeCheck = False\n",
        "  outOfCafe = False\n",
        "  print(\"You are now in the cafeteria. Do you...\")\n",
        "\n",
        "  while outOfCafe == False:\n",
        "    if c1 == False:\n",
        "      print(\"1 - Look around the room\")\n",
        "\n",
        "    if c1 == True and ramen == False:\n",
        "      print(\"2 - Put the ramen from the counter in the microwave for a quick snack\")\n",
        "\n",
        "    if c1 == True:\n",
        "      print(\"3 - Go through the old door at the other end\")\n",
        "\n",
        "    response = input(\"\")\n",
        "\n",
        "    if response == \"1\" or response == \"2\" or response == \"3\":\n",
        "      if response == \"1\":\n",
        "        print(\"\\nYou see a bunch of tables and chairs with old plates and cups, seems to have been abandoned for a while, you barely manage to see an old \\ndoor at the other end. There is also some ramen on the counter\")\n",
        "        c1 = True\n",
        "\n",
        "      if response ==\"2\":\n",
        "        waterchoice = input(\"Do you first add water into the ramen?\\n 1 - Yes\\n 2 - No\\n\")\n",
        "        if waterchoice == \"1\":\n",
        "          print(\"\\nYou add the right amount of water from the sink and microwave the ramen to perfection. It tastes amazing \\n But, you notice on the ramen package, it has a set of 4 numbers, \", randomCode)\n",
        "          ramen = True\n",
        "        else:\n",
        "          print(\"\\nYou put the ramen in the microwave, but it starts to smoke and it explodes.\\n You are now dead.\")\n",
        "          break\n",
        "\n",
        "      if response == \"3\":\n",
        "        print(\"The door seems to be locked, you can make out some sort of old keypad\")\n",
        "        print(\"1 - Input Code \\n2 - Go Back\")\n",
        "        codeInput = input(\"\")\n",
        "        if codeInput == \"1\":\n",
        "          code = input(\"Input: \")\n",
        "          codeCheck = True\n",
        "        if code == str(randomCode) and codeCheck == True:\n",
        "            outOfCafe = True\n",
        "            print(\"You made it out of the cafe, you are now in another dark hallway.\")\n",
        "            cafeHall()\n",
        "            #print(\"The security system shut off all oxygen to the cafeteria. You suffocated to death.\")\n",
        "            #break"
      ],
      "metadata": {
        "id": "p9wKZlCSRmmP"
      },
      "execution_count": 3,
      "outputs": []
    },
    {
      "cell_type": "code",
      "source": [
        "def hallway():\n",
        "  c1 = False\n",
        "  c2 = False\n",
        "  c3 = False\n",
        "  outOfHall = False\n",
        "  looked = False\n",
        "  print(\"You step out into the hallway and are freezing, what do you do...\")\n",
        "  while outOfHall == False:\n",
        "    if c1 == False:\n",
        "      print(\"1 - Look around the room\")\n",
        "    if c2 == False:\n",
        "      print(\"2 - Try to look inside the pod across from yours\")\n",
        "    if c3 == False:\n",
        "      print(\"3 - Pull the release lever on the pod across from yours\")\n",
        "    if looked == True:\n",
        "      print(\"4 - Go through the door to the Cafeteria \\n5 - Go through the door to the Dormatory\")\n",
        "    response = input(\"-- \")\n",
        "    if response == \"1\" or response == \"2\" or response == \"3\" or response == \"4\" or response == \"5\":\n",
        "      if response == \"1\":\n",
        "        print(\"\\nYou see dozens of all other pods lining the hallway. Then two doors on either end, one says \\\"Dormatory\\\" and the other \\\"Cafeteria\\\" Now what...\")\n",
        "        looked = True\n",
        "        c1 = True\n",
        "      if response == \"2\":\n",
        "        print(\"\\nThrough the frosted glass you see somebody else in the pod, they are not moving. Do you...\")\n",
        "        c2 = True\n",
        "      if response == \"3\":\n",
        "        print(\"\\nYou pull the lever and with a a loud hissing noise the pod door lifts up, a rush of cold air rushed out revealing a \\nfrozen body in the pod, it appears everyone in the pods is dead.\")\n",
        "        c2 = True\n",
        "        c3 = True\n",
        "      if response == \"4\":\n",
        "        print(\"\\nYou walk through the door to the cafeteria, and as you go, the door slams shut with a metal clank, it is probably locked.\")\n",
        "        cafeteria()\n",
        "        outofHall = True\n",
        "      if response == \"5\":\n",
        "        print(\"\\nYou walk through the door to the dormatory, and as you go, the door slams shut with a metal clank, it is probalby locked.\")\n",
        "        dormatory()\n",
        "        outOfHall = True\n"
      ],
      "metadata": {
        "id": "2X9IjfRLJ7wT"
      },
      "execution_count": 4,
      "outputs": []
    },
    {
      "cell_type": "code",
      "source": [
        "def intro():\n",
        "  c1 = False\n",
        "  c2 = False\n",
        "  outOfPod = False\n",
        "  print(\"You wake up in some sort of pod. There is a little window looking out and you are freezing cold. Do you...\")\n",
        "  while outOfPod == False:\n",
        "    if c1 == False:\n",
        "      print(\"1 - Look out the window\")\n",
        "    if c2 == False:\n",
        "      print(\"2 - Do nothing and cry\")\n",
        "    print(\"3 - Push on the pod door \\n4 - Go back to sleep\")\n",
        "    response = input(\"-- \")\n",
        "    if response == \"1\" or response == \"2\" or response == \"3\" or response == \"4\":\n",
        "      if response == \"1\":\n",
        "        print(\"\\nYou see a dark, musty hallway that looks to be filled of other pods, all of the other windows are frosted up, and you cannot see inside...\")\n",
        "        c1 = True\n",
        "      if response == \"2\":\n",
        "        print(\"\\nYou cry and cry and cry. Are you done yet? Come on, whatever, let's move on...\")\n",
        "        c2 = True\n",
        "      if response == \"3\":\n",
        "        print(\"\\nYou push on the pod door and it miracuously opens.\")\n",
        "        hallway()\n",
        "        outOfPod = True\n",
        "      if response == \"4\":\n",
        "        print(\"\\nOkay fine. Go back to sleep, you're boring. Goodbye.\")\n",
        "        break\n",
        "    else:\n",
        "      response = input(\"Please input a 1, 2, 3, or 4\\n -- \")\n",
        "\n"
      ],
      "metadata": {
        "id": "DToswc3clKpf"
      },
      "execution_count": 5,
      "outputs": []
    },
    {
      "cell_type": "code",
      "source": [
        "def main():\n",
        "  powerRoom()\n",
        "  #intro()\n",
        "\n"
      ],
      "metadata": {
        "id": "LQuG-KfJlMj3"
      },
      "execution_count": 22,
      "outputs": []
    },
    {
      "cell_type": "code",
      "source": [
        "main()"
      ],
      "metadata": {
        "colab": {
          "base_uri": "https://localhost:8080/"
        },
        "id": "X05kry2NKCAp",
        "outputId": "de8faf5d-e572-4e46-d112-5ac881ceb335"
      },
      "execution_count": null,
      "outputs": [
        {
          "metadata": {
            "tags": null
          },
          "name": "stdout",
          "output_type": "stream",
          "text": [
            "You enter what looks to be the power room.\n",
            "1 - Look around the room\n",
            "You see mutliple big generators, all are falling apart and no longer runner, except for 1. There is also a another door.\n"
          ]
        }
      ]
    }
  ]
}