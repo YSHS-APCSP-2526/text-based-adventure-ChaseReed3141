{
  "nbformat": 4,
  "nbformat_minor": 0,
  "metadata": {
    "colab": {
      "provenance": [],
      "include_colab_link": true
    },
    "kernelspec": {
      "name": "python3",
      "display_name": "Python 3"
    },
    "language_info": {
      "name": "python"
    }
  },
  "cells": [
    {
      "cell_type": "markdown",
      "metadata": {
        "id": "view-in-github",
        "colab_type": "text"
      },
      "source": [
        "<a href=\"https://colab.research.google.com/github/YSHS-APCSP-2526/text-based-adventure-ChaseReed3141/blob/main/Text_Based_Adventure.ipynb\" target=\"_parent\"><img src=\"https://colab.research.google.com/assets/colab-badge.svg\" alt=\"Open In Colab\"/></a>"
      ]
    },
    {
      "cell_type": "markdown",
      "source": [
        "#Requirements for text based adventure\n",
        "1. You must have at least 2 different \"paths\" that are at least 4 decisions in length\n",
        "2. Include an element of randomness (from the random library)\n",
        "3. Include a list that is core to the text based adventure\n",
        "4. Include a function that is called within your program that includes a while loop, and a parameter that influences a conditional statement in your function.\n",
        "5. Commented Code.\n",
        "6. A [digital flowchart](https://docs.google.com/document/d/1p2k3wL6gzjYWBuWxwEQptmbbOZZNsQrthlC12SNtYgY/edit?usp=sharing) that follows accepted symbols for representing code. You can use google slides or [draw.io](https://www.drawio.com/) for the flowchart."
      ],
      "metadata": {
        "id": "zpSmche7G_jy"
      }
    },
    {
      "cell_type": "code",
      "source": [
        "def hallway():\n",
        "  outOfHall = False\n",
        "  looked = False\n",
        "  print(\"\\nYou step out into the hallway and are freezing, what do you do...\")\n",
        "  while outOfHall == False:\n",
        "    print(\"1 - Look around the room \\n2 - Try to look inside the pod across from yours \\n3 - Pull the release lever on the pod across from yours\")\n",
        "    response = input(\"-- \")\n",
        "    if response == \"1\" or response == \"2\" or response == \"3\":\n",
        "      if response == \"1\":\n",
        "        print(\"You see dozens of all other pods lining the hallway. Then two doors on either end, one says \\\"Dormatory\\\" and the other \\\"Cafeteria\\\" Now what...\")\n",
        "        looked = True\n",
        "      if response == \"2\":\n",
        "        print(\"Through the frosted glass you see somebody else in the pod, they are not moving. Do you...\")\n",
        "      if response == \"3\":\n",
        "        print(\"You pull the lever and with a a loud hissing noise the pod door lifts up,a rush of cold air rushed out revealing a frozen body in the pod. \")\n",
        "      if response == \"4\":\n",
        "        pass\n",
        "      if response == \"5\"\n",
        "        pass\n"
      ],
      "metadata": {
        "id": "2X9IjfRLJ7wT"
      },
      "execution_count": 31,
      "outputs": []
    },
    {
      "cell_type": "code",
      "source": [
        "def intro():\n",
        "  outOfPod = False\n",
        "  print(\"You wake up in some sort of pod. There is a little window looking out and you are freezing cold. Do you...\")\n",
        "  while outOfPod == False:\n",
        "    print(\"1 - Look out the window \\n2 - Do nothing and cry \\n3 - Push on the pod door\")\n",
        "    response = input(\"-- \")\n",
        "    if response == \"1\" or response == \"2\" or response == \"3\":\n",
        "      if response == \"1\":\n",
        "        print(\"You see a dark, musty hallway that looks to be filled of other pods, all of the other windows are frosted up, and you cannot see inside...\")\n",
        "      if response == \"2\":\n",
        "        print(\"You cry and cry and cry. Are you done yet? Come on, whatever, let's move on...\")\n",
        "      if response == \"3\":\n",
        "        print(\"You push on the pod door and it miracuously opens.\")\n",
        "        outOfPod = True\n",
        "    else:\n",
        "      response = input(\"Please input a 1, 2, or 3\\n -- \")\n",
        "\n",
        "\n",
        "\n",
        "  hallway()\n",
        "\n",
        "\n",
        "\n"
      ],
      "metadata": {
        "id": "DToswc3clKpf"
      },
      "execution_count": 32,
      "outputs": []
    },
    {
      "cell_type": "code",
      "source": [
        "def main():\n",
        "  intro()\n",
        "\n"
      ],
      "metadata": {
        "id": "LQuG-KfJlMj3"
      },
      "execution_count": 33,
      "outputs": []
    },
    {
      "cell_type": "code",
      "source": [
        "main()"
      ],
      "metadata": {
        "id": "X05kry2NKCAp",
        "outputId": "cc1d2162-269b-4200-ac3f-587a079ecf1d",
        "colab": {
          "base_uri": "https://localhost:8080/"
        }
      },
      "execution_count": null,
      "outputs": [
        {
          "output_type": "stream",
          "name": "stdout",
          "text": [
            "You wake up in some sort of pod. There is a little window looking out and you are freezing cold. Do you...\n",
            "1 - Look out the window \n",
            "2 - Do nothing and cry \n",
            "3 - Push on the pod door\n",
            "-- 3\n",
            "You push on the pod door and it miracuously opens.\n",
            "\n",
            "You step out into the hallway and are freezing, what do you do...\n",
            "1 - Look around the room \n",
            "2 - Try to look inside the pod across from yours \n",
            "3 - Pull the release lever on the pod across from yours \n",
            "4 - Leave the room\n",
            "-- 1\n",
            "You see dozens of all other pods lining the hallway. Then two doors on either end, one says \"Dormatory\" and the other \"Cafeteria\"\n",
            "1 - Look around the room \n",
            "2 - Try to look inside the pod across from yours \n",
            "3 - Pull the release lever on the pod across from yours \n",
            "4 - Leave the room\n"
          ]
        }
      ]
    }
  ]
}